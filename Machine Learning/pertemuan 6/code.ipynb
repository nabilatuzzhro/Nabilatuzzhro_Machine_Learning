{
 "cells": [
  {
   "cell_type": "code",
   "execution_count": 2,
   "id": "3bcfdc7d-2bae-41d8-ba35-4f3218232654",
   "metadata": {},
   "outputs": [
    {
     "name": "stdout",
     "output_type": "stream",
     "text": [
      "C:\\Users\\Nabilatuz Zahro\\Machine Learning\\pertemuan 6\n",
      "['.ipynb_checkpoints', 'Untitled.ipynb']\n"
     ]
    }
   ],
   "source": [
    "import os\n",
    "print(os.getcwd())\n",
    "print(os.listdir())"
   ]
  },
  {
   "cell_type": "code",
   "execution_count": 6,
   "id": "01d62a27-a3ac-4a62-96f1-5b323017df37",
   "metadata": {},
   "outputs": [
    {
     "name": "stdout",
     "output_type": "stream",
     "text": [
      "Train: (8, 5)\n",
      "Test: (2, 5)\n",
      "\n",
      "Distribusi Train:\n",
      "Lulus\n",
      "1    4\n",
      "0    4\n",
      "Name: count, dtype: int64\n",
      "\n",
      "Distribusi Test:\n",
      "Lulus\n",
      "0    1\n",
      "1    1\n",
      "Name: count, dtype: int64\n"
     ]
    }
   ],
   "source": [
    "from sklearn.model_selection import train_test_split\n",
    "import pandas as pd\n",
    "\n",
    "df = pd.read_csv(\"processed_kelulusan.csv\")\n",
    "X = df.drop(\"Lulus\", axis=1)\n",
    "y = df[\"Lulus\"]\n",
    "\n",
    "X_train, X_test, y_train, y_test = train_test_split(\n",
    "    X, y, test_size=0.2, stratify=y, random_state=42\n",
    ")\n",
    "\n",
    "print(\"Train:\", X_train.shape)\n",
    "print(\"Test:\", X_test.shape)\n",
    "print(\"\\nDistribusi Train:\")\n",
    "print(y_train.value_counts())\n",
    "print(\"\\nDistribusi Test:\")\n",
    "print(y_test.value_counts())\n"
   ]
  },
  {
   "cell_type": "code",
   "execution_count": 9,
   "id": "25f8d25f-e45e-4d4d-a5ee-99c60d3ba173",
   "metadata": {},
   "outputs": [
    {
     "name": "stdout",
     "output_type": "stream",
     "text": [
      "Train: (7, 5)\n",
      "Test: (3, 5)\n",
      "\n",
      "Distribusi kelas:\n",
      "Lulus\n",
      "1    4\n",
      "0    3\n",
      "Name: count, dtype: int64\n",
      "\n",
      "Baseline RF — F1(test): 1.0\n",
      "              precision    recall  f1-score   support\n",
      "\n",
      "           0      1.000     1.000     1.000         2\n",
      "           1      1.000     1.000     1.000         1\n",
      "\n",
      "    accuracy                          1.000         3\n",
      "   macro avg      1.000     1.000     1.000         3\n",
      "weighted avg      1.000     1.000     1.000         3\n",
      "\n",
      "✅ Model berhasil disimpan ke model_kelulusan.pkl\n"
     ]
    }
   ],
   "source": [
    "import pandas as pd\n",
    "from sklearn.model_selection import train_test_split\n",
    "from sklearn.pipeline import Pipeline\n",
    "from sklearn.compose import ColumnTransformer\n",
    "from sklearn.preprocessing import StandardScaler\n",
    "from sklearn.impute import SimpleImputer\n",
    "from sklearn.ensemble import RandomForestClassifier\n",
    "from sklearn.metrics import f1_score, classification_report\n",
    "\n",
    "df = pd.read_csv(\"processed_kelulusan.csv\")\n",
    "X = df.drop(\"Lulus\", axis=1)\n",
    "y = df[\"Lulus\"]\n",
    "\n",
    "#Split data (70% train, 30% test)\n",
    "X_train, X_test, y_train, y_test = train_test_split(\n",
    "    X, y, test_size=0.3, stratify=y, random_state=42\n",
    ")\n",
    "\n",
    "print(\"Train:\", X_train.shape)\n",
    "print(\"Test:\", X_test.shape)\n",
    "print(\"\\nDistribusi kelas:\")\n",
    "print(y_train.value_counts())\n",
    "\n",
    "#Buat pipeline\n",
    "num_cols = X_train.select_dtypes(include=\"number\").columns\n",
    "\n",
    "pre = ColumnTransformer([\n",
    "    (\"num\", Pipeline([\n",
    "        (\"imp\", SimpleImputer(strategy=\"median\")),\n",
    "        (\"sc\", StandardScaler())\n",
    "    ]), num_cols),\n",
    "], remainder=\"drop\")\n",
    "\n",
    "rf = RandomForestClassifier(\n",
    "    n_estimators=300, max_features=\"sqrt\",\n",
    "    class_weight=\"balanced\", random_state=42\n",
    ")\n",
    "\n",
    "pipe = Pipeline([(\"pre\", pre), (\"clf\", rf)])\n",
    "pipe.fit(X_train, y_train)\n",
    "\n",
    "#Evaluasi di data test\n",
    "y_pred = pipe.predict(X_test)\n",
    "print(\"\\nBaseline RF — F1(test):\", f1_score(y_test, y_pred, average=\"macro\"))\n",
    "print(classification_report(y_test, y_pred, digits=3))\n",
    "\n",
    "import joblib\n",
    "\n",
    "# Simpan model ke file .pkl\n",
    "joblib.dump(pipe, \"model_kelulusan.pkl\")\n",
    "print(\"✅ Model berhasil disimpan ke model_kelulusan.pkl\")\n"
   ]
  },
  {
   "cell_type": "code",
   "execution_count": 11,
   "id": "3e12cd4a-037b-481f-8ade-fa900e5be196",
   "metadata": {},
   "outputs": [
    {
     "name": "stdout",
     "output_type": "stream",
     "text": [
      "CV F1-macro (train): 1.0 ± 0.0\n"
     ]
    }
   ],
   "source": [
    "from sklearn.model_selection import StratifiedKFold, cross_val_score\n",
    "\n",
    "# Karena data kecil, ganti jadi 3 folds aja\n",
    "skf = StratifiedKFold(n_splits=3, shuffle=True, random_state=42)\n",
    "\n",
    "scores = cross_val_score(pipe, X_train, y_train, cv=skf, scoring=\"f1_macro\", n_jobs=-1)\n",
    "\n",
    "print(\"CV F1-macro (train):\", scores.mean(), \"±\", scores.std())\n"
   ]
  },
  {
   "cell_type": "code",
   "execution_count": 16,
   "id": "e0921d9e-c6af-491f-bf36-49157052abf8",
   "metadata": {},
   "outputs": [
    {
     "name": "stdout",
     "output_type": "stream",
     "text": [
      "Fitting 2 folds for each of 12 candidates, totalling 24 fits\n",
      "Best params: {'clf__max_depth': None, 'clf__min_samples_split': 2}\n",
      "Best RF — F1(val): 0.4\n"
     ]
    }
   ],
   "source": [
    "from sklearn.model_selection import StratifiedKFold, GridSearchCV\n",
    "from sklearn.metrics import f1_score\n",
    "\n",
    "# Karena tiap kelas cuma punya 2 data, pakai n_splits=2 biar aman\n",
    "skf = StratifiedKFold(n_splits=2, shuffle=True, random_state=42)\n",
    "\n",
    "param = {\n",
    "    \"clf__max_depth\": [None, 12, 20, 30],\n",
    "    \"clf__min_samples_split\": [2, 5, 10]\n",
    "}\n",
    "\n",
    "gs = GridSearchCV(pipe, param_grid=param, cv=skf,\n",
    "                  scoring=\"f1_macro\", n_jobs=-1, verbose=1)\n",
    "\n",
    "gs.fit(X_train2, y_train2)\n",
    "\n",
    "print(\"Best params:\", gs.best_params_)\n",
    "\n",
    "best_model = gs.best_estimator_\n",
    "y_val_best = best_model.predict(X_val)\n",
    "\n",
    "print(\"Best RF — F1(val):\", f1_score(y_val, y_val_best, average=\"macro\"))\n"
   ]
  },
  {
   "cell_type": "code",
   "execution_count": 17,
   "id": "b068fbff-499e-4988-a060-eb94d79faf49",
   "metadata": {},
   "outputs": [
    {
     "name": "stdout",
     "output_type": "stream",
     "text": [
      "F1(test): 1.0\n",
      "              precision    recall  f1-score   support\n",
      "\n",
      "           0      1.000     1.000     1.000         2\n",
      "           1      1.000     1.000     1.000         1\n",
      "\n",
      "    accuracy                          1.000         3\n",
      "   macro avg      1.000     1.000     1.000         3\n",
      "weighted avg      1.000     1.000     1.000         3\n",
      "\n",
      "Confusion Matrix (test):\n",
      "[[2 0]\n",
      " [0 1]]\n",
      "ROC-AUC(test): 1.0\n"
     ]
    },
    {
     "data": {
      "image/png": "[encoded data removed]",
      "text/plain": [
       "<Figure size 640x480 with 1 Axes>"
      ]
     },
     "metadata": {},
     "output_type": "display_data"
    },
    {
     "data": {
      "image/png": "[encoded data removed]",
      "text/plain": [
       "<Figure size 640x480 with 1 Axes>"
      ]
     },
     "metadata": {},
     "output_type": "display_data"
    }
   ],
   "source": [
    "from sklearn.metrics import confusion_matrix, roc_auc_score, roc_curve, precision_recall_curve\n",
    "import matplotlib.pyplot as plt\n",
    "\n",
    "final_model = best_model  # pilih terbaik; jika baseline lebih baik, gunakan pipe\n",
    "\n",
    "y_test_pred = final_model.predict(X_test)\n",
    "print(\"F1(test):\", f1_score(y_test, y_test_pred, average=\"macro\"))\n",
    "print(classification_report(y_test, y_test_pred, digits=3))\n",
    "print(\"Confusion Matrix (test):\")\n",
    "print(confusion_matrix(y_test, y_test_pred))\n",
    "\n",
    "# ROC-AUC (bila ada predict_proba)\n",
    "if hasattr(final_model, \"predict_proba\"):\n",
    "    y_test_proba = final_model.predict_proba(X_test)[:,1]\n",
    "    try:\n",
    "        print(\"ROC-AUC(test):\", roc_auc_score(y_test, y_test_proba))\n",
    "    except:\n",
    "        pass\n",
    "    fpr, tpr, _ = roc_curve(y_test, y_test_proba)\n",
    "    plt.figure(); plt.plot(fpr, tpr); plt.xlabel(\"FPR\"); plt.ylabel(\"TPR\"); plt.title(\"ROC (test)\")\n",
    "    plt.tight_layout(); plt.savefig(\"roc_test.png\", dpi=120)\n",
    "\n",
    "    prec, rec, _ = precision_recall_curve(y_test, y_test_proba)\n",
    "    plt.figure(); plt.plot(rec, prec); plt.xlabel(\"Recall\"); plt.ylabel(\"Precision\"); plt.title(\"PR Curve (test)\")\n",
    "    plt.tight_layout(); plt.savefig(\"pr_test.png\", dpi=120)"
   ]
  },
  {
   "cell_type": "code",
   "execution_count": 18,
   "id": "f6361b98-3a47-4bc5-b249-6b95c3783851",
   "metadata": {},
   "outputs": [
    {
     "name": "stdout",
     "output_type": "stream",
     "text": [
      "Top feature importance:\n",
      "num__IPK: 0.2235\n",
      "num__Rasio_Absensi: 0.2083\n",
      "num__Jumlah_Absensi: 0.1970\n",
      "num__IPK_x_Study: 0.1970\n",
      "num__Waktu_Belajar_Jam: 0.1742\n"
     ]
    }
   ],
   "source": [
    "try:\n",
    "    import numpy as np\n",
    "    importances = final_model.named_steps[\"clf\"].feature_importances_\n",
    "    fn = final_model.named_steps[\"pre\"].get_feature_names_out()\n",
    "    top = sorted(zip(fn, importances), key=lambda x: x[1], reverse=True)\n",
    "    print(\"Top feature importance:\")\n",
    "    for name, val in top[:10]:\n",
    "        print(f\"{name}: {val:.4f}\")\n",
    "except Exception as e:\n",
    "    print(\"Feature importance tidak tersedia:\", e)\n",
    "\n",
    "# 6b) (Opsional) Permutation Importance\n",
    "# from sklearn.inspection import permutation_importance\n",
    "# r = permutation_importance(final_model, X_val, y_val, n_repeats=10, random_state=42, n_jobs=-1)\n",
    "# ... (urutkan dan laporkan)"
   ]
  },
  {
   "cell_type": "code",
   "execution_count": 19,
   "id": "109d826b-c704-4a25-befc-352ec1855a0b",
   "metadata": {},
   "outputs": [
    {
     "name": "stdout",
     "output_type": "stream",
     "text": [
      "Model disimpan sebagai rf_model.pkl\n"
     ]
    }
   ],
   "source": [
    "import joblib\n",
    "joblib.dump(final_model, \"rf_model.pkl\")\n",
    "print(\"Model disimpan sebagai rf_model.pkl\")"
   ]
  },
  {
   "cell_type": "code",
   "execution_count": 20,
   "id": "5e8445ea-ae3d-4c30-8b06-15ff7cee7ac2",
   "metadata": {},
   "outputs": [
    {
     "name": "stdout",
     "output_type": "stream",
     "text": [
      "Prediksi: 1\n"
     ]
    }
   ],
   "source": [
    "import pandas as pd, joblib\n",
    "mdl = joblib.load(\"rf_model.pkl\")\n",
    "sample = pd.DataFrame([{\n",
    "  \"IPK\": 3.4,\n",
    "  \"Jumlah_Absensi\": 4,\n",
    "  \"Waktu_Belajar_Jam\": 7,\n",
    "  \"Rasio_Absensi\": 4/14,\n",
    "  \"IPK_x_Study\": 3.4*7\n",
    "}])\n",
    "print(\"Prediksi:\", int(mdl.predict(sample)[0]))"
   ]
  }
 ],
 "metadata": {
  "kernelspec": {
   "display_name": "Python 3 (ipykernel)",
   "language": "python",
   "name": "python3"
  },
  "language_info": {
   "codemirror_mode": {
    "name": "ipython",
    "version": 3
   },
   "file_extension": ".py",
   "mimetype": "text/x-python",
   "name": "python",
   "nbconvert_exporter": "python",
   "pygments_lexer": "ipython3",
   "version": "3.12.4"
  }
 },
 "nbformat": 4,
 "nbformat_minor": 5
}
